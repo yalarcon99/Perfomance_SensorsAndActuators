{
 "cells": [
  {
   "cell_type": "markdown",
   "metadata": {},
   "source": [
    "# Digital signal processors"
   ]
  },
  {
   "cell_type": "markdown",
   "metadata": {},
   "source": [
    "**Digital signal processors**, especially those handling audio and video data, must have large dynamic ranges. If the dynamic range of the A/D conversion of a signal processor must be at least 89 dB, what is the number of bits required of the D/A converter?"
   ]
  },
  {
   "cell_type": "markdown",
   "metadata": {},
   "source": [
    "By basic circuits knowledge, we have that power is:\n",
    "\n",
    "$$P = I^2R \\enspace(1)$$\n",
    "\n",
    "Or expressed in function of voltage:\n",
    "\n",
    "$$P = \\frac{V^2}{R} \\enspace(2)$$"
   ]
  },
  {
   "cell_type": "markdown",
   "metadata": {},
   "source": [
    "To express the dynamic range in its corresponding quantity in decibels ($ d \\beta $) as a function of the power, we have the expression:\n",
    "\n",
    "$$R_{d}^{(d\\beta)} = 10\\log \\bigg(\\frac{P_{out}}{P_{ref}}\\bigg) \\enspace(3)$$\n",
    "\n",
    "Where:\n",
    "\n",
    "$R_{d}^{(d\\beta)}:$ Represent the DAC dynamic range measured in decibels $(d\\beta)$.\n",
    "\n",
    "Replacing equation (1) or (2) into the equation (3), we obtain the dynamic range as a function of voltage or current.\n",
    "\n",
    "$$R_{d}^{(d\\beta)} = 10\\log \\bigg(\\frac{I_{out}^{2}R_{out}}{I_{ref}^2R_{ref}}\\bigg) = 10\\log \\bigg[\\bigg(\\frac{I_{out}}{I_{ref}}\\bigg)^2\\frac{R_{out}}{R_{ref}}\\bigg] \\enspace(4)$$\n",
    "\n",
    "Also we can express in function of voltage:\n",
    "\n",
    "$$R_{d}^{(d\\beta)} = 10\\log \\bigg[\\bigg(\\frac{V_{out}}{V_{ref}}\\bigg)^2\\frac{R_{ref}}{R_{out}}\\bigg)\\bigg] \\enspace(5)$$\n",
    "\n",
    "Next, equation (5) is manipulated for convenience, however, the procedure can be performed in the same way with equation (4) and, therefore, reach the same result.\n",
    "\n",
    "The maximum power transfer theorem states that the maximum amount of power is transferred when $ R_ {out} = R_ {ref} $, that is, when the impedances or, in this case, the resistances have the same value. So, reformulating equation (5), we have to:\n",
    "\n",
    "$$R_{d}^{(d\\beta)} = 10\\log \\bigg[\\bigg(\\frac{V_{out}}{V_{ref}}\\bigg)^2\\bigg] \\enspace(6)$$\n",
    "\n",
    "For our exercise, because it is an A/D converter, we will express the output voltage $ (V_ {out}) $ in binary form with respect to the reference voltage $ (V_ {ref}) $, that is:\n",
    "\n",
    "$$V_{out} = 2^nV_{ref}\\enspace(7)$$\n",
    "\n",
    "\n",
    "Therefore, we obtain:\n",
    "\n",
    "$$R_{d}^{(d\\beta)} = 10\\log \\bigg[\\bigg(\\frac{2^n V_{ref}}{V_{ref}}\\bigg)^2\\bigg] = 10\\log \\bigg[{\\bigg(2^n\\bigg)}^2\\bigg] \\enspace$$\n",
    "\n",
    "Finally,\n",
    "\n",
    "$$R_{d}^{(d\\beta)} = 10\\log \\bigg(2^{2n}\\bigg) = 20n \\log_{10} (2) \\enspace(8)$$\n",
    "\n",
    "Where, $n$ represent the number of bits."
   ]
  },
  {
   "cell_type": "markdown",
   "metadata": {},
   "source": [
    "### Solution"
   ]
  },
  {
   "cell_type": "markdown",
   "metadata": {},
   "source": [
    "Using the equation (8) and matching the dynamic range value given by the problem, we can obtain the number of needed bits.\n",
    "\n",
    "$$R_{d}^{(d\\beta)} = 20n \\log (2) = 89\\ d\\beta$$\n",
    "\n",
    "Then,\n",
    "\n",
    "$$n = \\frac{R_{d}^{(d\\beta)}}{20 \\log (2)} = \\frac{89\\ d\\beta}{20 \\log (2)} = 15\\ bits$$\n",
    "\n",
    "The number of bits required for the D/A converter are **15 bits**."
   ]
  },
  {
   "cell_type": "markdown",
   "metadata": {},
   "source": [
    "**Authors:**\n",
    "\n",
    "Yithzak Alarcón - T00045029\n",
    "\n",
    "Angie Vitola - T00045045"
   ]
  },
  {
   "cell_type": "code",
   "execution_count": null,
   "metadata": {},
   "outputs": [],
   "source": []
  }
 ],
 "metadata": {
  "kernelspec": {
   "display_name": "Python 3",
   "language": "python",
   "name": "python3"
  },
  "language_info": {
   "codemirror_mode": {
    "name": "ipython",
    "version": 3
   },
   "file_extension": ".py",
   "mimetype": "text/x-python",
   "name": "python",
   "nbconvert_exporter": "python",
   "pygments_lexer": "ipython3",
   "version": "3.7.4"
  }
 },
 "nbformat": 4,
 "nbformat_minor": 2
}
