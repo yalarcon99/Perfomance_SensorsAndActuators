{
 "cells": [
  {
   "cell_type": "markdown",
   "metadata": {},
   "source": [
    "# The transfer function"
   ]
  },
  {
   "cell_type": "markdown",
   "metadata": {
    "slideshow": {
     "slide_type": "notes"
    }
   },
   "source": [
    "**Analytic form of transfer function:** In certain cases the transfer function is available as an analytic expression. One common transfer function used for resistance temperature sensors (to be discussed in Chapter 3) is the Callendar– Van Duzen equation.It gives the resistance of the sensor at a temperature T as\n",
    "\n",
    "$$R(T)=R_{0}(1+AT+BT^2-100CT^3+CT^4) \\hspace{5mm} [\\Omega]$$\n",
    "\n",
    "\n",
    " where the constants A, B, and C are determined by direct measurement of resistance for the specific material used in the sensor and $R_{0}$ is the temperature of the sensor at 0$^{\\circ}$C. Typical temperatures used for calibration are the oxygen point (-182.962 $^{\\circ}$C; the equilibrium between liquid oxygen and its vapor), the triple point of water (0.01 $^{\\circ}$C; the point of equilibrium temperature between ice, liquid water, and water vapor), the steam point (100 $^{\\circ}$C; the equilibrium point between water and vapor), the zinc point (419.58 $^{\\circ}$C; the equilibrium point between solid and liquid zinc), the silver point (961.93 $^{\\circ}$C), and the gold point (1064.43 $^{\\circ}$C), as well as others. \n",
    "\n",
    "Consider a platinum resistance sensor with a nominal resistance of 25 $\\Omega$ at 0$^{\\circ}$C. To calibrate the sensor its resistance is measured at the oxygen point as 6.2 $\\Omega$, at the steam point as 35.6 $\\Omega$, and at the zinc point as 66.1 $\\Omega$. Calculate the coefficients A, B, and C and plot the transfer function between -200 $^{\\circ}$C and 600 $^{\\circ}$C."
   ]
  },
  {
   "cell_type": "markdown",
   "metadata": {},
   "source": [
    "### Solution"
   ]
  },
  {
   "cell_type": "markdown",
   "metadata": {},
   "source": [
    "To get the values of the constants A, B and C, we have to enumerate the given points to solve the 3x3 equation system."
   ]
  },
  {
   "cell_type": "markdown",
   "metadata": {},
   "source": [
    "$P\\ (Temperature;Resistance)$ "
   ]
  },
  {
   "cell_type": "markdown",
   "metadata": {},
   "source": [
    "_1._ $P_{1}(-182,962^{\\circ}C;\\hspace{1mm}6,2 \\Omega)$"
   ]
  },
  {
   "cell_type": "markdown",
   "metadata": {},
   "source": [
    "_2._ $P_{2}(100^{\\circ}C;\\hspace{1mm}35,6 \\Omega)$"
   ]
  },
  {
   "cell_type": "markdown",
   "metadata": {},
   "source": [
    "_3._ $P_{3}(419,58 ^{\\circ}C;\\hspace{1mm}66,1 \\Omega)$"
   ]
  },
  {
   "cell_type": "code",
   "execution_count": 6,
   "metadata": {},
   "outputs": [],
   "source": [
    "import matplotlib.pyplot as plt\n",
    "from numpy import *\n",
    "import numpy as np\n",
    "from math import *\n",
    "%matplotlib inline\n",
    "\n",
    "#Definimos el valor de R0\n",
    "R0 = 25;\n",
    "#Definimos los puntos dados por el problema\n",
    "T1 = -182.962; R1 = 6.2;\n",
    "T2 = 100; R2 = 35.6;\n",
    "T3 = 419.58; R3 = 66.1;"
   ]
  },
  {
   "cell_type": "markdown",
   "metadata": {},
   "source": [
    "Reformulating Callendar-Van Duzen equation:\n",
    "\n",
    "$$\\frac{R(T)}{R_0}-1 = AT+BT^2+C(T-100)T^3$$\n",
    "\n",
    "Based on this, we can present the 3x3 matrix based on the points described above, and thus solve the system $Mx = b$."
   ]
  },
  {
   "cell_type": "code",
   "execution_count": 17,
   "metadata": {},
   "outputs": [
    {
     "name": "stdout",
     "output_type": "stream",
     "text": [
      "x =  [[ 4.15969065e-03]\n",
      " [ 8.03093522e-07]\n",
      " [-1.02814817e-11]]\n",
      "A =  [0.00415969] B =  [8.03093522e-07] C =  [-1.02814817e-11]\n"
     ]
    }
   ],
   "source": [
    "M = np.array([[T1, (T1**2), (-100*(T1**3)+(T1**4))], \n",
    "    [T2, (T2**2), (-100*(T2**3)+(T2**4))], \n",
    "    [T3, (T3**2), (-100*(T3**3)+(T3**4))]]);\n",
    "b = np.array([[(R1/R0)-1],[(R2/R0)-1],[(R3/R0)-1]]);\n",
    "#Procedemos a hallar la inversa de la matriz M y multiplicarla por b\n",
    "x = np.dot((linalg.inv(M)),b);\n",
    "print('x = ',x);\n",
    "A = x[0]; B = x[1]; C = x[2];\n",
    "print('A = ',A,'B = ',B,'C = ',C);"
   ]
  },
  {
   "cell_type": "markdown",
   "metadata": {},
   "source": [
    "Once we get the values of constants A, B and C; we can proceed to define the equation and plot it."
   ]
  },
  {
   "cell_type": "code",
   "execution_count": 60,
   "metadata": {},
   "outputs": [
    {
     "data": {
      "image/png": "[encoded data removed]",
      "text/plain": [
       "<matplotlib.figure.Figure at 0x1efd0d1cbe0>"
      ]
     },
     "metadata": {},
     "output_type": "display_data"
    }
   ],
   "source": [
    "#Definimos el intervalo para realizar el plot\n",
    "T = np.arange(-200, 601, 1);\n",
    "#Definimos la ecuación de Callendar-Van Dozen\n",
    "R = R0*(1+A[0]*T+B[0]*(T)**2+C[0]*(T-100)*(T)**3);\n",
    "#Procedemos a realizar el plot\n",
    "plt.plot(T,R,T1,R1,'rx',T2,R2,'rx',T3,R3,'rx');\n",
    "plt.ylabel('Sensor resistance ($\\Omega$)');\n",
    "plt.xlabel('Temperature (°C)');\n",
    "plt.show();"
   ]
  },
  {
   "cell_type": "markdown",
   "metadata": {},
   "source": [
    "Finally, we can observe the resulting graph from the Callendar-Van Dozen equation for a platinum resistance sensor, in the illustrated graph  with the 3 initial points given by the problem of which we calculate the constants of the equation."
   ]
  },
  {
   "cell_type": "markdown",
   "metadata": {},
   "source": [
    "**Authors:**\n",
    "\n",
    "Yithzak Alarcón - T00045029\n",
    "\n",
    "Angie Vitola - T00045045"
   ]
  },
  {
   "cell_type": "code",
   "execution_count": null,
   "metadata": {},
   "outputs": [],
   "source": []
  }
 ],
 "metadata": {
  "kernelspec": {
   "display_name": "Python 3",
   "language": "python",
   "name": "python3"
  },
  "language_info": {
   "codemirror_mode": {
    "name": "ipython",
    "version": 3
   },
   "file_extension": ".py",
   "mimetype": "text/x-python",
   "name": "python",
   "nbconvert_exporter": "python",
   "pygments_lexer": "ipython3",
   "version": "3.7.3"
  }
 },
 "nbformat": 4,
 "nbformat_minor": 2
}
