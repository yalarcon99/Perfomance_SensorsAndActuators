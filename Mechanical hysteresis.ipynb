{
 "cells": [
  {
   "cell_type": "markdown",
   "metadata": {},
   "source": [
    "# Mechanical Hysteresis"
   ]
  },
  {
   "cell_type": "markdown",
   "metadata": {},
   "source": [
    "**Mechanical hysteresis.** Springs are often used in sensors, particularly in sensing forces, taking advantage of the fact that under an applied force the spring contracts (or expands) based on the formula $F = -kx$ (Hooke’s law), where $F$ is the applied force, $x$ is the spring contraction or expansion, and $k$ is a constant called the spring constant. The negative sign indicates that compression reduces the length of the spring. However, the spring constant is force dependent and has slightly different variations under compression and expansion. Consider the spring in Figure 2.27a and its force–displacement curve given in Figure 2.27b.\n",
    "\n",
    "**a.** Explain the meaning of the curve and, in particular, that of the horizontal lines on which additional force does not change the displacement.\n",
    "\n",
    "**b.** What is the maximum error in displacement as a percentage of full scale due to hysteresis?\n",
    "\n",
    "**c.** What is the maximum error in force as a percentage of full scale due to hysteresis?\n"
   ]
  },
  {
   "cell_type": "markdown",
   "metadata": {},
   "source": [
    "## Solution\n"
   ]
  },
  {
   "cell_type": "markdown",
   "metadata": {},
   "source": [
    "<p align=\"center\">\n",
    "<img src=\"resorte.png\", width=600, height=600>\n",
    "</p>"
   ]
  },
  {
   "cell_type": "markdown",
   "metadata": {},
   "source": [
    "In the images a y b, you can appreciate tha the spring is compresseded as the compression force (in the image a, the downward arrow, in the image b, the positive values of the force axis) increases, in addition, the displacement values of the spring are negative, since it is moving below its natural position."
   ]
  },
  {
   "cell_type": "markdown",
   "metadata": {},
   "source": [
    "<p align=\"center\">\n",
    "<img src=\"resorte2.png\", width=600, height=600>\n",
    "</p>"
   ]
  },
  {
   "cell_type": "markdown",
   "metadata": {},
   "source": [
    "On the contrary, if the force of the tension (in the image a, the arrow up, in the image b, the negative values of the axis of the force), the time increases the length, and these displacement values will be positive, since it is above its natural position."
   ]
  },
  {
   "cell_type": "markdown",
   "metadata": {},
   "source": [
    "<p align=\"center\">\n",
    "<img src=\"resorte.png\", width=600, height=600>\n",
    "</p>"
   ]
  },
  {
   "cell_type": "markdown",
   "metadata": {},
   "source": [
    "Otherwise the horizontal lines mean that no matter how much a force is exerted, a point will arrive (in this case, up to 10mm) in which the spring can not continue to deform, since it has a limit (restriction), as we can observe in the image a."
   ]
  },
  {
   "cell_type": "markdown",
   "metadata": {},
   "source": [
    "<p align=\"center\">\n",
    "<img src=\"2018-08-29.png\", width=600, height=600>\n",
    "</p>"
   ]
  },
  {
   "cell_type": "markdown",
   "metadata": {},
   "source": [
    "### Maximum displacement error due to hysteresis"
   ]
  },
  {
   "cell_type": "code",
   "execution_count": 19,
   "metadata": {},
   "outputs": [
    {
     "name": "stdout",
     "output_type": "stream",
     "text": [
      "[-0.00980392  0.19607843]\n",
      "[-0.00980392 -0.19607843]\n"
     ]
    },
    {
     "data": {
      "image/png": "[encoded data removed]",
      "text/plain": [
       "<matplotlib.figure.Figure at 0x21066fb8eb8>"
      ]
     },
     "metadata": {},
     "output_type": "display_data"
    },
    {
     "name": "stdout",
     "output_type": "stream",
     "text": [
      "The Maximum displacement error due to hysteresis  is: 1.96%\n"
     ]
    }
   ],
   "source": [
    "# Librería numpy\n",
    "import numpy as np\n",
    "%matplotlib inline\n",
    "\n",
    "x1= np.array([-1000,1040])\n",
    "y1= np.array([10,-10])\n",
    "\n",
    "x2= np.array([-1040,1000])\n",
    "y2= np.array([10,-10])\n",
    "\n",
    "# Adjustment to a polynomial line (grade 1) y = mx + b\n",
    "\n",
    "p1= np.polyfit(x1,y1,1)\n",
    "p2= np.polyfit(x2,y2,1)\n",
    "\n",
    "print(p1)\n",
    "print(p2)\n",
    "\n",
    "#print:  p1 [-0.00980392   0.19607843], where p1[0] es m(slope) y p1[1] es b.\n",
    "#print:  p2 [-0.00980392   0.19607843], where p2[0] es m(slope) y p2[1] es b. \n",
    "\n",
    "m1=p1[0]\n",
    "m2=p2[0]\n",
    "b1=p1[1]\n",
    "b2=p2[1]\n",
    "\n",
    "a1= p1*m1+b1\n",
    "a2= p2*m2+b2\n",
    "\n",
    "\n",
    "\n",
    "import matplotlib.pyplot as plt\n",
    "\n",
    "#draw the adjustment line\n",
    "\n",
    "plt.plot(x1,y1,'r-')\n",
    "plt.plot(x2,y2,'b')\n",
    "plt.xlabel('F(N)')\n",
    "plt.ylabel('x(mm)')\n",
    "plt.show() \n",
    "\n",
    "#OFS= 10mm-(-10mm)-----> output full scale.\n",
    "OFS= 20\n",
    "errord= np.abs(a1-a2)*100/OFS\n",
    "emd= np.max(errord)\n",
    "\n",
    "print('The Maximum displacement error due to hysteresis  is: %2.2f%%'% (np.max(errord)))"
   ]
  },
  {
   "cell_type": "markdown",
   "metadata": {},
   "source": [
    "### Maximum force error due to hysteresis"
   ]
  },
  {
   "cell_type": "markdown",
   "metadata": {},
   "source": [
    "$$ x = \\frac{y-b}{m} \\enspace (1)$$\n",
    "\n",
    "Equation (1), represent a line equation."
   ]
  },
  {
   "cell_type": "code",
   "execution_count": 22,
   "metadata": {},
   "outputs": [
    {
     "name": "stdout",
     "output_type": "stream",
     "text": [
      "The Maximum force error due to hysteresis : 1.923\n"
     ]
    }
   ],
   "source": [
    "#IFS = 1040-(-1040)= 2080 N-------> input full scale\n",
    "\n",
    "IFS = 2080 \n",
    "\n",
    "errorF = abs(x1-x2)/IFS*100\n",
    "var_max = np.max(errorF);\n",
    "print(\"The Maximum force error due to hysteresis : %.3f\" % (var_max));"
   ]
  },
  {
   "cell_type": "markdown",
   "metadata": {},
   "source": [
    "**Authors:**\n",
    "\n",
    "Yithzak Alarcón - T00045029\n",
    "\n",
    "Angie Vitola - T00045045"
   ]
  },
  {
   "cell_type": "code",
   "execution_count": null,
   "metadata": {},
   "outputs": [],
   "source": []
  }
 ],
 "metadata": {
  "kernelspec": {
   "display_name": "Python 3",
   "language": "python",
   "name": "python3"
  },
  "language_info": {
   "codemirror_mode": {
    "name": "ipython",
    "version": 3
   },
   "file_extension": ".py",
   "mimetype": "text/x-python",
   "name": "python",
   "nbconvert_exporter": "python",
   "pygments_lexer": "ipython3",
   "version": "3.6.4"
  }
 },
 "nbformat": 4,
 "nbformat_minor": 2
}
